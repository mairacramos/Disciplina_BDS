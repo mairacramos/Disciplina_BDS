{
  "nbformat": 4,
  "nbformat_minor": 0,
  "metadata": {
    "colab": {
      "provenance": []
    },
    "kernelspec": {
      "name": "python3",
      "display_name": "Python 3"
    },
    "language_info": {
      "name": "python"
    }
  },
  "cells": [
    {
      "cell_type": "markdown",
      "source": [
        "<img src=\"https://seeklogo.com/images/U/unb-universidade-de-brasilia-logo-2F07D677C6-seeklogo.com.png\">\n",
        "\n",
        "Universidade Brasília\\\n",
        "Faculdade de Ciências da Saúde\\\n",
        "Departamento de Saúde Coletiva\\\n",
        "Disciplina: Tópicos Especiais em Saúde Coletiva – Bancos de Dados em Saúde\\\n",
        "Professor: Ivan Zimmermann\n",
        "\n",
        "---\n",
        "\n"
      ],
      "metadata": {
        "id": "fNXP88KYv71O"
      }
    },
    {
      "cell_type": "markdown",
      "source": [
        "# <font color=87A2FB><b>Caracterização de Nascidos Vivos no estado do Rio de Janeiro em 2019</b>\n",
        "\n",
        "Maíra Catharina Ramos - 21/0001577"
      ],
      "metadata": {
        "id": "0ArF4L0V6dHO"
      }
    },
    {
      "cell_type": "markdown",
      "source": [
        "##**Explorando os dados sobre nascidos vivos no RJ em 2019**"
      ],
      "metadata": {
        "id": "y7v03wXOQins"
      }
    },
    {
      "cell_type": "code",
      "source": [
        "#Importando as bibliotecas\n",
        "import pandas as pd\n",
        "import numpy as np\n",
        "import matplotlib.pyplot as plt\n",
        "import seaborn as sns\n",
        "\n",
        "\n",
        "# Carregando dados de arquivo remoto (Google Drive)\n",
        "df_sinasc_19_rj = pd.read_csv('https://drive.google.com/uc?export=download&id=10Etb5hUnMhfOAv3CYxQ6E6M1jku0Tl-F')\n",
        "\n",
        "# Carregando dicionário de dados de arquivo remoto\n",
        "dicio = pd.read_csv('https://drive.google.com/uc?export=download&id=1WmOoIDCepR5eQzceIHmAg32zWQ-e6cnk')"
      ],
      "metadata": {
        "id": "X6yrNYC4UpXj"
      },
      "execution_count": null,
      "outputs": []
    },
    {
      "cell_type": "code",
      "source": [
        "df_sinasc_19_rj.info()"
      ],
      "metadata": {
        "colab": {
          "base_uri": "https://localhost:8080/"
        },
        "id": "63oEb2dsRna8",
        "outputId": "97fbc4ce-2307-4db4-d9ce-854482273fb2"
      },
      "execution_count": null,
      "outputs": [
        {
          "output_type": "stream",
          "name": "stdout",
          "text": [
            "<class 'pandas.core.frame.DataFrame'>\n",
            "RangeIndex: 207989 entries, 0 to 207988\n",
            "Data columns (total 47 columns):\n",
            " #   Column      Non-Null Count   Dtype  \n",
            "---  ------      --------------   -----  \n",
            " 0   CODESTAB    206769 non-null  float64\n",
            " 1   CODMUNNASC  207989 non-null  int64  \n",
            " 2   LOCNASC     207989 non-null  int64  \n",
            " 3   IDADEMAE    207989 non-null  float64\n",
            " 4   ESTCIVMAE   207989 non-null  int64  \n",
            " 5   ESCMAE      207989 non-null  int64  \n",
            " 6   CODOCUPMAE  180992 non-null  float64\n",
            " 7   QTDFILVIVO  205826 non-null  float64\n",
            " 8   QTDFILMORT  204300 non-null  float64\n",
            " 9   CODMUNRES   207989 non-null  int64  \n",
            " 10  GESTACAO    207989 non-null  int64  \n",
            " 11  GRAVIDEZ    207989 non-null  int64  \n",
            " 12  PARTO       207989 non-null  int64  \n",
            " 13  CONSULTAS   207989 non-null  int64  \n",
            " 14  DTNASC      207989 non-null  int64  \n",
            " 15  HORANASC    207857 non-null  float64\n",
            " 16  SEXO        207989 non-null  int64  \n",
            " 17  APGAR1      206220 non-null  float64\n",
            " 18  APGAR5      206351 non-null  float64\n",
            " 19  RACACOR     207989 non-null  int64  \n",
            " 20  PESO        207984 non-null  float64\n",
            " 21  IDANOMAL    207989 non-null  int64  \n",
            " 22  DTCADASTRO  207989 non-null  int64  \n",
            " 23  CODANOMAL   1407 non-null    object \n",
            " 24  NATURALMAE  207027 non-null  float64\n",
            " 25  CODMUNNATU  207027 non-null  float64\n",
            " 26  CODUFNATU   207027 non-null  float64\n",
            " 27  ESCMAE2010  207333 non-null  float64\n",
            " 28  SERIESCMAE  116188 non-null  float64\n",
            " 29  DTNASCMAE   207745 non-null  float64\n",
            " 30  RACACORMAE  204574 non-null  float64\n",
            " 31  QTDGESTANT  206723 non-null  float64\n",
            " 32  QTDPARTNOR  205326 non-null  float64\n",
            " 33  QTDPARTCES  204995 non-null  float64\n",
            " 34  IDADEPAI    98282 non-null   float64\n",
            " 35  DTULTMENST  63660 non-null   float64\n",
            " 36  SEMAGESTAC  205678 non-null  float64\n",
            " 37  TPMETESTIM  205678 non-null  float64\n",
            " 38  CONSPRENAT  205835 non-null  float64\n",
            " 39  MESPRENAT   206321 non-null  float64\n",
            " 40  TPAPRESENT  207543 non-null  float64\n",
            " 41  STTRABPART  207481 non-null  float64\n",
            " 42  STCESPARTO  206351 non-null  float64\n",
            " 43  TPNASCASSI  207809 non-null  float64\n",
            " 44  ESCMAEAGR1  207333 non-null  float64\n",
            " 45  CODPAISRES  207989 non-null  int64  \n",
            " 46  TPROBSON    207989 non-null  float64\n",
            "dtypes: float64(31), int64(15), object(1)\n",
            "memory usage: 74.6+ MB\n"
          ]
        }
      ]
    },
    {
      "cell_type": "code",
      "source": [
        "dicio"
      ],
      "metadata": {
        "colab": {
          "base_uri": "https://localhost:8080/",
          "height": 1000
        },
        "id": "MkHtNYN3R_5H",
        "outputId": "3a04389c-477b-4ee1-e2f8-4745eb26021a"
      },
      "execution_count": null,
      "outputs": [
        {
          "output_type": "execute_result",
          "data": {
            "text/plain": [
              "            id    type                                        description\n",
              "0     CODESTAB    text                          Código de estabelecimento\n",
              "1   CODMUNNASC  bigint  Município de ocorrência, em codificação idênti...\n",
              "2      LOCNASC  bigint  Local de ocorrência do nascimento, conforme a ...\n",
              "3     IDADEMAE  bigint                               Idade da mãe em anos\n",
              "4    ESTCIVMAE  bigint  Estado civil, conforme a tabela:\\n1: Solteira\\...\n",
              "5       ESCMAE  bigint  Escolaridade, anos de estudo concluídos:\\n1: N...\n",
              "6   CODOCUPMAE    text  Ocupação, conforme a Classificação Brasileira ...\n",
              "7   QTDFILVIVO    text                             Número de filhos vivos\n",
              "8   QTDFILMORT    text                            Número de filhos mortos\n",
              "9    CODMUNRES  bigint  Município de residência da mãe, em codificação...\n",
              "10    GESTACAO  bigint  Semanas de gestação, conforme a tabela:\\n9: Ig...\n",
              "11    GRAVIDEZ  bigint  Tipo de gravidez, conforme a tabela:\\n9: Ignor...\n",
              "12       PARTO  bigint  Tipo de parto, conforme a tabela:\\n9: Ignorado...\n",
              "13   CONSULTAS  bigint  Número de consultas de pré-natal:\\n1: Nenhuma\\...\n",
              "14      DTNASC    text            Data do nascimento, no formato ddmmaaaa\n",
              "15    HORANASC    text                              Horário de nascimento\n",
              "16        SEXO  bigint  Sexo, conforme a tabela:\\n0: Ignorado, não inf...\n",
              "17      APGAR1    text                  Apgar no primeiro minuto\\n00 a 10\n",
              "18      APGAR5    text                    Apgar no quinto minuto\\n00 a 10\n",
              "19     RACACOR  bigint  Raça/Cor:\\n1:Branca\\n2:Preta\\n3:Amarela\\n4: Pa...\n",
              "20        PESO    text                          Peso ao nascer, em gramas\n",
              "21    IDANOMAL  bigint      Anomalia congênita:\\n9:Ignorado\\n1:Sim\\n2:Não\n",
              "22  DTCADASTRO    text                  Data do cadastro da DN no sistema\n",
              "23   CODANOMAL    text  Código de malformação congênita ou anomalia cr...\n",
              "24  NATURALMAE  bigint  Se a mãe for estrangeira, constará o código do...\n",
              "25  CODMUNNATU  bigint         Código do município de naturalidade da mãe\n",
              "26   CODUFNATU  bigint                Código da UF de naturalidade da mãe\n",
              "27  ESCMAE2010  bigint  Escolaridade 2010. Valores: 0 – Sem escolarida...\n",
              "28  SERIESCMAE  bigint            Série escolar da mãe. Valores de 1 a 8.\n",
              "29   DTNASCMAE    text                          Data de nascimento da mãe\n",
              "30  RACACORMAE  bigint                                    Raça/cor da mãe\n",
              "31  QTDGESTANT    text                     Número de gestações anteriores\n",
              "32  QTDPARTNOR    text                          Número de partos vaginais\n",
              "33  QTDPARTCES    text                          Número de partos cesáreos\n",
              "34    IDADEPAI  bigint                                       Idade do pai\n",
              "35  DTULTMENST    text       Data da última menstruação (DUM): dd mm aaaa\n",
              "36  SEMAGESTAC  bigint                     Número de semanas de gestação.\n",
              "37  TPMETESTIM  bigint  Método utilizado. Valores: 1– Exame físico; 2–...\n",
              "38  CONSPRENAT    text                      Número de consultas pré-natal\n",
              "39   MESPRENAT    text         Mês de gestação em que iniciou o pré-natal\n",
              "40  TPAPRESENT  bigint  Tipo de apresentação do RN. Valores: 1– Cefáli...\n",
              "41  STTRABPART  bigint  Trabalho de parto induzido? Valores: 1– Sim; 2...\n",
              "42  STCESPARTO  bigint  Cesárea ocorreu antes do trabalho de parto ini...\n",
              "43  TPNASCASSI  bigint  Nascimento foi assistido por? Valores: 1– Médi...\n",
              "44  ESCMAEAGR1    text  Escolaridade 2010 agregada. Valores: 00 – Sem ...\n",
              "45  CODPAISRES  bigint                       Código do país de residência\n",
              "46    TPROBSON    text     Código do Grupo de Robson, gerado pelo sistema"
            ],
            "text/html": [
              "\n",
              "  <div id=\"df-a1be8ba7-1c76-4489-ad66-fcf30052b31c\">\n",
              "    <div class=\"colab-df-container\">\n",
              "      <div>\n",
              "<style scoped>\n",
              "    .dataframe tbody tr th:only-of-type {\n",
              "        vertical-align: middle;\n",
              "    }\n",
              "\n",
              "    .dataframe tbody tr th {\n",
              "        vertical-align: top;\n",
              "    }\n",
              "\n",
              "    .dataframe thead th {\n",
              "        text-align: right;\n",
              "    }\n",
              "</style>\n",
              "<table border=\"1\" class=\"dataframe\">\n",
              "  <thead>\n",
              "    <tr style=\"text-align: right;\">\n",
              "      <th></th>\n",
              "      <th>id</th>\n",
              "      <th>type</th>\n",
              "      <th>description</th>\n",
              "    </tr>\n",
              "  </thead>\n",
              "  <tbody>\n",
              "    <tr>\n",
              "      <th>0</th>\n",
              "      <td>CODESTAB</td>\n",
              "      <td>text</td>\n",
              "      <td>Código de estabelecimento</td>\n",
              "    </tr>\n",
              "    <tr>\n",
              "      <th>1</th>\n",
              "      <td>CODMUNNASC</td>\n",
              "      <td>bigint</td>\n",
              "      <td>Município de ocorrência, em codificação idênti...</td>\n",
              "    </tr>\n",
              "    <tr>\n",
              "      <th>2</th>\n",
              "      <td>LOCNASC</td>\n",
              "      <td>bigint</td>\n",
              "      <td>Local de ocorrência do nascimento, conforme a ...</td>\n",
              "    </tr>\n",
              "    <tr>\n",
              "      <th>3</th>\n",
              "      <td>IDADEMAE</td>\n",
              "      <td>bigint</td>\n",
              "      <td>Idade da mãe em anos</td>\n",
              "    </tr>\n",
              "    <tr>\n",
              "      <th>4</th>\n",
              "      <td>ESTCIVMAE</td>\n",
              "      <td>bigint</td>\n",
              "      <td>Estado civil, conforme a tabela:\\n1: Solteira\\...</td>\n",
              "    </tr>\n",
              "    <tr>\n",
              "      <th>5</th>\n",
              "      <td>ESCMAE</td>\n",
              "      <td>bigint</td>\n",
              "      <td>Escolaridade, anos de estudo concluídos:\\n1: N...</td>\n",
              "    </tr>\n",
              "    <tr>\n",
              "      <th>6</th>\n",
              "      <td>CODOCUPMAE</td>\n",
              "      <td>text</td>\n",
              "      <td>Ocupação, conforme a Classificação Brasileira ...</td>\n",
              "    </tr>\n",
              "    <tr>\n",
              "      <th>7</th>\n",
              "      <td>QTDFILVIVO</td>\n",
              "      <td>text</td>\n",
              "      <td>Número de filhos vivos</td>\n",
              "    </tr>\n",
              "    <tr>\n",
              "      <th>8</th>\n",
              "      <td>QTDFILMORT</td>\n",
              "      <td>text</td>\n",
              "      <td>Número de filhos mortos</td>\n",
              "    </tr>\n",
              "    <tr>\n",
              "      <th>9</th>\n",
              "      <td>CODMUNRES</td>\n",
              "      <td>bigint</td>\n",
              "      <td>Município de residência da mãe, em codificação...</td>\n",
              "    </tr>\n",
              "    <tr>\n",
              "      <th>10</th>\n",
              "      <td>GESTACAO</td>\n",
              "      <td>bigint</td>\n",
              "      <td>Semanas de gestação, conforme a tabela:\\n9: Ig...</td>\n",
              "    </tr>\n",
              "    <tr>\n",
              "      <th>11</th>\n",
              "      <td>GRAVIDEZ</td>\n",
              "      <td>bigint</td>\n",
              "      <td>Tipo de gravidez, conforme a tabela:\\n9: Ignor...</td>\n",
              "    </tr>\n",
              "    <tr>\n",
              "      <th>12</th>\n",
              "      <td>PARTO</td>\n",
              "      <td>bigint</td>\n",
              "      <td>Tipo de parto, conforme a tabela:\\n9: Ignorado...</td>\n",
              "    </tr>\n",
              "    <tr>\n",
              "      <th>13</th>\n",
              "      <td>CONSULTAS</td>\n",
              "      <td>bigint</td>\n",
              "      <td>Número de consultas de pré-natal:\\n1: Nenhuma\\...</td>\n",
              "    </tr>\n",
              "    <tr>\n",
              "      <th>14</th>\n",
              "      <td>DTNASC</td>\n",
              "      <td>text</td>\n",
              "      <td>Data do nascimento, no formato ddmmaaaa</td>\n",
              "    </tr>\n",
              "    <tr>\n",
              "      <th>15</th>\n",
              "      <td>HORANASC</td>\n",
              "      <td>text</td>\n",
              "      <td>Horário de nascimento</td>\n",
              "    </tr>\n",
              "    <tr>\n",
              "      <th>16</th>\n",
              "      <td>SEXO</td>\n",
              "      <td>bigint</td>\n",
              "      <td>Sexo, conforme a tabela:\\n0: Ignorado, não inf...</td>\n",
              "    </tr>\n",
              "    <tr>\n",
              "      <th>17</th>\n",
              "      <td>APGAR1</td>\n",
              "      <td>text</td>\n",
              "      <td>Apgar no primeiro minuto\\n00 a 10</td>\n",
              "    </tr>\n",
              "    <tr>\n",
              "      <th>18</th>\n",
              "      <td>APGAR5</td>\n",
              "      <td>text</td>\n",
              "      <td>Apgar no quinto minuto\\n00 a 10</td>\n",
              "    </tr>\n",
              "    <tr>\n",
              "      <th>19</th>\n",
              "      <td>RACACOR</td>\n",
              "      <td>bigint</td>\n",
              "      <td>Raça/Cor:\\n1:Branca\\n2:Preta\\n3:Amarela\\n4: Pa...</td>\n",
              "    </tr>\n",
              "    <tr>\n",
              "      <th>20</th>\n",
              "      <td>PESO</td>\n",
              "      <td>text</td>\n",
              "      <td>Peso ao nascer, em gramas</td>\n",
              "    </tr>\n",
              "    <tr>\n",
              "      <th>21</th>\n",
              "      <td>IDANOMAL</td>\n",
              "      <td>bigint</td>\n",
              "      <td>Anomalia congênita:\\n9:Ignorado\\n1:Sim\\n2:Não</td>\n",
              "    </tr>\n",
              "    <tr>\n",
              "      <th>22</th>\n",
              "      <td>DTCADASTRO</td>\n",
              "      <td>text</td>\n",
              "      <td>Data do cadastro da DN no sistema</td>\n",
              "    </tr>\n",
              "    <tr>\n",
              "      <th>23</th>\n",
              "      <td>CODANOMAL</td>\n",
              "      <td>text</td>\n",
              "      <td>Código de malformação congênita ou anomalia cr...</td>\n",
              "    </tr>\n",
              "    <tr>\n",
              "      <th>24</th>\n",
              "      <td>NATURALMAE</td>\n",
              "      <td>bigint</td>\n",
              "      <td>Se a mãe for estrangeira, constará o código do...</td>\n",
              "    </tr>\n",
              "    <tr>\n",
              "      <th>25</th>\n",
              "      <td>CODMUNNATU</td>\n",
              "      <td>bigint</td>\n",
              "      <td>Código do município de naturalidade da mãe</td>\n",
              "    </tr>\n",
              "    <tr>\n",
              "      <th>26</th>\n",
              "      <td>CODUFNATU</td>\n",
              "      <td>bigint</td>\n",
              "      <td>Código da UF de naturalidade da mãe</td>\n",
              "    </tr>\n",
              "    <tr>\n",
              "      <th>27</th>\n",
              "      <td>ESCMAE2010</td>\n",
              "      <td>bigint</td>\n",
              "      <td>Escolaridade 2010. Valores: 0 – Sem escolarida...</td>\n",
              "    </tr>\n",
              "    <tr>\n",
              "      <th>28</th>\n",
              "      <td>SERIESCMAE</td>\n",
              "      <td>bigint</td>\n",
              "      <td>Série escolar da mãe. Valores de 1 a 8.</td>\n",
              "    </tr>\n",
              "    <tr>\n",
              "      <th>29</th>\n",
              "      <td>DTNASCMAE</td>\n",
              "      <td>text</td>\n",
              "      <td>Data de nascimento da mãe</td>\n",
              "    </tr>\n",
              "    <tr>\n",
              "      <th>30</th>\n",
              "      <td>RACACORMAE</td>\n",
              "      <td>bigint</td>\n",
              "      <td>Raça/cor da mãe</td>\n",
              "    </tr>\n",
              "    <tr>\n",
              "      <th>31</th>\n",
              "      <td>QTDGESTANT</td>\n",
              "      <td>text</td>\n",
              "      <td>Número de gestações anteriores</td>\n",
              "    </tr>\n",
              "    <tr>\n",
              "      <th>32</th>\n",
              "      <td>QTDPARTNOR</td>\n",
              "      <td>text</td>\n",
              "      <td>Número de partos vaginais</td>\n",
              "    </tr>\n",
              "    <tr>\n",
              "      <th>33</th>\n",
              "      <td>QTDPARTCES</td>\n",
              "      <td>text</td>\n",
              "      <td>Número de partos cesáreos</td>\n",
              "    </tr>\n",
              "    <tr>\n",
              "      <th>34</th>\n",
              "      <td>IDADEPAI</td>\n",
              "      <td>bigint</td>\n",
              "      <td>Idade do pai</td>\n",
              "    </tr>\n",
              "    <tr>\n",
              "      <th>35</th>\n",
              "      <td>DTULTMENST</td>\n",
              "      <td>text</td>\n",
              "      <td>Data da última menstruação (DUM): dd mm aaaa</td>\n",
              "    </tr>\n",
              "    <tr>\n",
              "      <th>36</th>\n",
              "      <td>SEMAGESTAC</td>\n",
              "      <td>bigint</td>\n",
              "      <td>Número de semanas de gestação.</td>\n",
              "    </tr>\n",
              "    <tr>\n",
              "      <th>37</th>\n",
              "      <td>TPMETESTIM</td>\n",
              "      <td>bigint</td>\n",
              "      <td>Método utilizado. Valores: 1– Exame físico; 2–...</td>\n",
              "    </tr>\n",
              "    <tr>\n",
              "      <th>38</th>\n",
              "      <td>CONSPRENAT</td>\n",
              "      <td>text</td>\n",
              "      <td>Número de consultas pré-natal</td>\n",
              "    </tr>\n",
              "    <tr>\n",
              "      <th>39</th>\n",
              "      <td>MESPRENAT</td>\n",
              "      <td>text</td>\n",
              "      <td>Mês de gestação em que iniciou o pré-natal</td>\n",
              "    </tr>\n",
              "    <tr>\n",
              "      <th>40</th>\n",
              "      <td>TPAPRESENT</td>\n",
              "      <td>bigint</td>\n",
              "      <td>Tipo de apresentação do RN. Valores: 1– Cefáli...</td>\n",
              "    </tr>\n",
              "    <tr>\n",
              "      <th>41</th>\n",
              "      <td>STTRABPART</td>\n",
              "      <td>bigint</td>\n",
              "      <td>Trabalho de parto induzido? Valores: 1– Sim; 2...</td>\n",
              "    </tr>\n",
              "    <tr>\n",
              "      <th>42</th>\n",
              "      <td>STCESPARTO</td>\n",
              "      <td>bigint</td>\n",
              "      <td>Cesárea ocorreu antes do trabalho de parto ini...</td>\n",
              "    </tr>\n",
              "    <tr>\n",
              "      <th>43</th>\n",
              "      <td>TPNASCASSI</td>\n",
              "      <td>bigint</td>\n",
              "      <td>Nascimento foi assistido por? Valores: 1– Médi...</td>\n",
              "    </tr>\n",
              "    <tr>\n",
              "      <th>44</th>\n",
              "      <td>ESCMAEAGR1</td>\n",
              "      <td>text</td>\n",
              "      <td>Escolaridade 2010 agregada. Valores: 00 – Sem ...</td>\n",
              "    </tr>\n",
              "    <tr>\n",
              "      <th>45</th>\n",
              "      <td>CODPAISRES</td>\n",
              "      <td>bigint</td>\n",
              "      <td>Código do país de residência</td>\n",
              "    </tr>\n",
              "    <tr>\n",
              "      <th>46</th>\n",
              "      <td>TPROBSON</td>\n",
              "      <td>text</td>\n",
              "      <td>Código do Grupo de Robson, gerado pelo sistema</td>\n",
              "    </tr>\n",
              "  </tbody>\n",
              "</table>\n",
              "</div>\n",
              "      <button class=\"colab-df-convert\" onclick=\"convertToInteractive('df-a1be8ba7-1c76-4489-ad66-fcf30052b31c')\"\n",
              "              title=\"Convert this dataframe to an interactive table.\"\n",
              "              style=\"display:none;\">\n",
              "        \n",
              "  <svg xmlns=\"http://www.w3.org/2000/svg\" height=\"24px\"viewBox=\"0 0 24 24\"\n",
              "       width=\"24px\">\n",
              "    <path d=\"M0 0h24v24H0V0z\" fill=\"none\"/>\n",
              "    <path d=\"M18.56 5.44l.94 2.06.94-2.06 2.06-.94-2.06-.94-.94-2.06-.94 2.06-2.06.94zm-11 1L8.5 8.5l.94-2.06 2.06-.94-2.06-.94L8.5 2.5l-.94 2.06-2.06.94zm10 10l.94 2.06.94-2.06 2.06-.94-2.06-.94-.94-2.06-.94 2.06-2.06.94z\"/><path d=\"M17.41 7.96l-1.37-1.37c-.4-.4-.92-.59-1.43-.59-.52 0-1.04.2-1.43.59L10.3 9.45l-7.72 7.72c-.78.78-.78 2.05 0 2.83L4 21.41c.39.39.9.59 1.41.59.51 0 1.02-.2 1.41-.59l7.78-7.78 2.81-2.81c.8-.78.8-2.07 0-2.86zM5.41 20L4 18.59l7.72-7.72 1.47 1.35L5.41 20z\"/>\n",
              "  </svg>\n",
              "      </button>\n",
              "      \n",
              "  <style>\n",
              "    .colab-df-container {\n",
              "      display:flex;\n",
              "      flex-wrap:wrap;\n",
              "      gap: 12px;\n",
              "    }\n",
              "\n",
              "    .colab-df-convert {\n",
              "      background-color: #E8F0FE;\n",
              "      border: none;\n",
              "      border-radius: 50%;\n",
              "      cursor: pointer;\n",
              "      display: none;\n",
              "      fill: #1967D2;\n",
              "      height: 32px;\n",
              "      padding: 0 0 0 0;\n",
              "      width: 32px;\n",
              "    }\n",
              "\n",
              "    .colab-df-convert:hover {\n",
              "      background-color: #E2EBFA;\n",
              "      box-shadow: 0px 1px 2px rgba(60, 64, 67, 0.3), 0px 1px 3px 1px rgba(60, 64, 67, 0.15);\n",
              "      fill: #174EA6;\n",
              "    }\n",
              "\n",
              "    [theme=dark] .colab-df-convert {\n",
              "      background-color: #3B4455;\n",
              "      fill: #D2E3FC;\n",
              "    }\n",
              "\n",
              "    [theme=dark] .colab-df-convert:hover {\n",
              "      background-color: #434B5C;\n",
              "      box-shadow: 0px 1px 3px 1px rgba(0, 0, 0, 0.15);\n",
              "      filter: drop-shadow(0px 1px 2px rgba(0, 0, 0, 0.3));\n",
              "      fill: #FFFFFF;\n",
              "    }\n",
              "  </style>\n",
              "\n",
              "      <script>\n",
              "        const buttonEl =\n",
              "          document.querySelector('#df-a1be8ba7-1c76-4489-ad66-fcf30052b31c button.colab-df-convert');\n",
              "        buttonEl.style.display =\n",
              "          google.colab.kernel.accessAllowed ? 'block' : 'none';\n",
              "\n",
              "        async function convertToInteractive(key) {\n",
              "          const element = document.querySelector('#df-a1be8ba7-1c76-4489-ad66-fcf30052b31c');\n",
              "          const dataTable =\n",
              "            await google.colab.kernel.invokeFunction('convertToInteractive',\n",
              "                                                     [key], {});\n",
              "          if (!dataTable) return;\n",
              "\n",
              "          const docLinkHtml = 'Like what you see? Visit the ' +\n",
              "            '<a target=\"_blank\" href=https://colab.research.google.com/notebooks/data_table.ipynb>data table notebook</a>'\n",
              "            + ' to learn more about interactive tables.';\n",
              "          element.innerHTML = '';\n",
              "          dataTable['output_type'] = 'display_data';\n",
              "          await google.colab.output.renderOutput(dataTable, element);\n",
              "          const docLink = document.createElement('div');\n",
              "          docLink.innerHTML = docLinkHtml;\n",
              "          element.appendChild(docLink);\n",
              "        }\n",
              "      </script>\n",
              "    </div>\n",
              "  </div>\n",
              "  "
            ]
          },
          "metadata": {},
          "execution_count": 35
        }
      ]
    },
    {
      "cell_type": "code",
      "source": [
        "df_sinasc_19_rj.head()"
      ],
      "metadata": {
        "colab": {
          "base_uri": "https://localhost:8080/",
          "height": 299
        },
        "id": "CUbCUp11Qfw_",
        "outputId": "61f8c34a-da3d-4a12-e793-146d70b23a6c"
      },
      "execution_count": null,
      "outputs": [
        {
          "output_type": "execute_result",
          "data": {
            "text/plain": [
              "    CODESTAB  CODMUNNASC  LOCNASC  IDADEMAE  ESTCIVMAE  ESCMAE  CODOCUPMAE  \\\n",
              "0  5903394.0      330070        1      19.0          1       4         NaN   \n",
              "1  5903394.0      330070        1      19.0          1       4    999992.0   \n",
              "2  5903394.0      330070        1      25.0          1       3    999992.0   \n",
              "3  5903394.0      330070        1      30.0          2       4    999992.0   \n",
              "4  5903394.0      330070        1      22.0          1       3    999992.0   \n",
              "\n",
              "   QTDFILVIVO  QTDFILMORT  CODMUNRES  ...  TPMETESTIM  CONSPRENAT  MESPRENAT  \\\n",
              "0         0.0         0.0     330070  ...         8.0         6.0        4.0   \n",
              "1         0.0         0.0     330070  ...         1.0        10.0        4.0   \n",
              "2         0.0         0.0     330023  ...         8.0         6.0        4.0   \n",
              "3         1.0         1.0     330070  ...         1.0         7.0        3.0   \n",
              "4         0.0         0.0     330070  ...         8.0         6.0        5.0   \n",
              "\n",
              "   TPAPRESENT  STTRABPART  STCESPARTO  TPNASCASSI  ESCMAEAGR1  CODPAISRES  \\\n",
              "0         1.0         2.0         3.0         1.0         5.0           1   \n",
              "1         1.0         2.0         3.0         1.0         6.0           1   \n",
              "2         1.0         2.0         2.0         1.0         3.0           1   \n",
              "3         1.0         1.0         3.0         1.0         6.0           1   \n",
              "4         1.0         1.0         3.0         1.0         3.0           1   \n",
              "\n",
              "   TPROBSON  \n",
              "0       1.0  \n",
              "1       1.0  \n",
              "2       1.0  \n",
              "3       5.0  \n",
              "4      10.0  \n",
              "\n",
              "[5 rows x 47 columns]"
            ],
            "text/html": [
              "\n",
              "  <div id=\"df-ade76bd3-491d-4cc1-9824-6c870d3bc26c\">\n",
              "    <div class=\"colab-df-container\">\n",
              "      <div>\n",
              "<style scoped>\n",
              "    .dataframe tbody tr th:only-of-type {\n",
              "        vertical-align: middle;\n",
              "    }\n",
              "\n",
              "    .dataframe tbody tr th {\n",
              "        vertical-align: top;\n",
              "    }\n",
              "\n",
              "    .dataframe thead th {\n",
              "        text-align: right;\n",
              "    }\n",
              "</style>\n",
              "<table border=\"1\" class=\"dataframe\">\n",
              "  <thead>\n",
              "    <tr style=\"text-align: right;\">\n",
              "      <th></th>\n",
              "      <th>CODESTAB</th>\n",
              "      <th>CODMUNNASC</th>\n",
              "      <th>LOCNASC</th>\n",
              "      <th>IDADEMAE</th>\n",
              "      <th>ESTCIVMAE</th>\n",
              "      <th>ESCMAE</th>\n",
              "      <th>CODOCUPMAE</th>\n",
              "      <th>QTDFILVIVO</th>\n",
              "      <th>QTDFILMORT</th>\n",
              "      <th>CODMUNRES</th>\n",
              "      <th>...</th>\n",
              "      <th>TPMETESTIM</th>\n",
              "      <th>CONSPRENAT</th>\n",
              "      <th>MESPRENAT</th>\n",
              "      <th>TPAPRESENT</th>\n",
              "      <th>STTRABPART</th>\n",
              "      <th>STCESPARTO</th>\n",
              "      <th>TPNASCASSI</th>\n",
              "      <th>ESCMAEAGR1</th>\n",
              "      <th>CODPAISRES</th>\n",
              "      <th>TPROBSON</th>\n",
              "    </tr>\n",
              "  </thead>\n",
              "  <tbody>\n",
              "    <tr>\n",
              "      <th>0</th>\n",
              "      <td>5903394.0</td>\n",
              "      <td>330070</td>\n",
              "      <td>1</td>\n",
              "      <td>19.0</td>\n",
              "      <td>1</td>\n",
              "      <td>4</td>\n",
              "      <td>NaN</td>\n",
              "      <td>0.0</td>\n",
              "      <td>0.0</td>\n",
              "      <td>330070</td>\n",
              "      <td>...</td>\n",
              "      <td>8.0</td>\n",
              "      <td>6.0</td>\n",
              "      <td>4.0</td>\n",
              "      <td>1.0</td>\n",
              "      <td>2.0</td>\n",
              "      <td>3.0</td>\n",
              "      <td>1.0</td>\n",
              "      <td>5.0</td>\n",
              "      <td>1</td>\n",
              "      <td>1.0</td>\n",
              "    </tr>\n",
              "    <tr>\n",
              "      <th>1</th>\n",
              "      <td>5903394.0</td>\n",
              "      <td>330070</td>\n",
              "      <td>1</td>\n",
              "      <td>19.0</td>\n",
              "      <td>1</td>\n",
              "      <td>4</td>\n",
              "      <td>999992.0</td>\n",
              "      <td>0.0</td>\n",
              "      <td>0.0</td>\n",
              "      <td>330070</td>\n",
              "      <td>...</td>\n",
              "      <td>1.0</td>\n",
              "      <td>10.0</td>\n",
              "      <td>4.0</td>\n",
              "      <td>1.0</td>\n",
              "      <td>2.0</td>\n",
              "      <td>3.0</td>\n",
              "      <td>1.0</td>\n",
              "      <td>6.0</td>\n",
              "      <td>1</td>\n",
              "      <td>1.0</td>\n",
              "    </tr>\n",
              "    <tr>\n",
              "      <th>2</th>\n",
              "      <td>5903394.0</td>\n",
              "      <td>330070</td>\n",
              "      <td>1</td>\n",
              "      <td>25.0</td>\n",
              "      <td>1</td>\n",
              "      <td>3</td>\n",
              "      <td>999992.0</td>\n",
              "      <td>0.0</td>\n",
              "      <td>0.0</td>\n",
              "      <td>330023</td>\n",
              "      <td>...</td>\n",
              "      <td>8.0</td>\n",
              "      <td>6.0</td>\n",
              "      <td>4.0</td>\n",
              "      <td>1.0</td>\n",
              "      <td>2.0</td>\n",
              "      <td>2.0</td>\n",
              "      <td>1.0</td>\n",
              "      <td>3.0</td>\n",
              "      <td>1</td>\n",
              "      <td>1.0</td>\n",
              "    </tr>\n",
              "    <tr>\n",
              "      <th>3</th>\n",
              "      <td>5903394.0</td>\n",
              "      <td>330070</td>\n",
              "      <td>1</td>\n",
              "      <td>30.0</td>\n",
              "      <td>2</td>\n",
              "      <td>4</td>\n",
              "      <td>999992.0</td>\n",
              "      <td>1.0</td>\n",
              "      <td>1.0</td>\n",
              "      <td>330070</td>\n",
              "      <td>...</td>\n",
              "      <td>1.0</td>\n",
              "      <td>7.0</td>\n",
              "      <td>3.0</td>\n",
              "      <td>1.0</td>\n",
              "      <td>1.0</td>\n",
              "      <td>3.0</td>\n",
              "      <td>1.0</td>\n",
              "      <td>6.0</td>\n",
              "      <td>1</td>\n",
              "      <td>5.0</td>\n",
              "    </tr>\n",
              "    <tr>\n",
              "      <th>4</th>\n",
              "      <td>5903394.0</td>\n",
              "      <td>330070</td>\n",
              "      <td>1</td>\n",
              "      <td>22.0</td>\n",
              "      <td>1</td>\n",
              "      <td>3</td>\n",
              "      <td>999992.0</td>\n",
              "      <td>0.0</td>\n",
              "      <td>0.0</td>\n",
              "      <td>330070</td>\n",
              "      <td>...</td>\n",
              "      <td>8.0</td>\n",
              "      <td>6.0</td>\n",
              "      <td>5.0</td>\n",
              "      <td>1.0</td>\n",
              "      <td>1.0</td>\n",
              "      <td>3.0</td>\n",
              "      <td>1.0</td>\n",
              "      <td>3.0</td>\n",
              "      <td>1</td>\n",
              "      <td>10.0</td>\n",
              "    </tr>\n",
              "  </tbody>\n",
              "</table>\n",
              "<p>5 rows × 47 columns</p>\n",
              "</div>\n",
              "      <button class=\"colab-df-convert\" onclick=\"convertToInteractive('df-ade76bd3-491d-4cc1-9824-6c870d3bc26c')\"\n",
              "              title=\"Convert this dataframe to an interactive table.\"\n",
              "              style=\"display:none;\">\n",
              "        \n",
              "  <svg xmlns=\"http://www.w3.org/2000/svg\" height=\"24px\"viewBox=\"0 0 24 24\"\n",
              "       width=\"24px\">\n",
              "    <path d=\"M0 0h24v24H0V0z\" fill=\"none\"/>\n",
              "    <path d=\"M18.56 5.44l.94 2.06.94-2.06 2.06-.94-2.06-.94-.94-2.06-.94 2.06-2.06.94zm-11 1L8.5 8.5l.94-2.06 2.06-.94-2.06-.94L8.5 2.5l-.94 2.06-2.06.94zm10 10l.94 2.06.94-2.06 2.06-.94-2.06-.94-.94-2.06-.94 2.06-2.06.94z\"/><path d=\"M17.41 7.96l-1.37-1.37c-.4-.4-.92-.59-1.43-.59-.52 0-1.04.2-1.43.59L10.3 9.45l-7.72 7.72c-.78.78-.78 2.05 0 2.83L4 21.41c.39.39.9.59 1.41.59.51 0 1.02-.2 1.41-.59l7.78-7.78 2.81-2.81c.8-.78.8-2.07 0-2.86zM5.41 20L4 18.59l7.72-7.72 1.47 1.35L5.41 20z\"/>\n",
              "  </svg>\n",
              "      </button>\n",
              "      \n",
              "  <style>\n",
              "    .colab-df-container {\n",
              "      display:flex;\n",
              "      flex-wrap:wrap;\n",
              "      gap: 12px;\n",
              "    }\n",
              "\n",
              "    .colab-df-convert {\n",
              "      background-color: #E8F0FE;\n",
              "      border: none;\n",
              "      border-radius: 50%;\n",
              "      cursor: pointer;\n",
              "      display: none;\n",
              "      fill: #1967D2;\n",
              "      height: 32px;\n",
              "      padding: 0 0 0 0;\n",
              "      width: 32px;\n",
              "    }\n",
              "\n",
              "    .colab-df-convert:hover {\n",
              "      background-color: #E2EBFA;\n",
              "      box-shadow: 0px 1px 2px rgba(60, 64, 67, 0.3), 0px 1px 3px 1px rgba(60, 64, 67, 0.15);\n",
              "      fill: #174EA6;\n",
              "    }\n",
              "\n",
              "    [theme=dark] .colab-df-convert {\n",
              "      background-color: #3B4455;\n",
              "      fill: #D2E3FC;\n",
              "    }\n",
              "\n",
              "    [theme=dark] .colab-df-convert:hover {\n",
              "      background-color: #434B5C;\n",
              "      box-shadow: 0px 1px 3px 1px rgba(0, 0, 0, 0.15);\n",
              "      filter: drop-shadow(0px 1px 2px rgba(0, 0, 0, 0.3));\n",
              "      fill: #FFFFFF;\n",
              "    }\n",
              "  </style>\n",
              "\n",
              "      <script>\n",
              "        const buttonEl =\n",
              "          document.querySelector('#df-ade76bd3-491d-4cc1-9824-6c870d3bc26c button.colab-df-convert');\n",
              "        buttonEl.style.display =\n",
              "          google.colab.kernel.accessAllowed ? 'block' : 'none';\n",
              "\n",
              "        async function convertToInteractive(key) {\n",
              "          const element = document.querySelector('#df-ade76bd3-491d-4cc1-9824-6c870d3bc26c');\n",
              "          const dataTable =\n",
              "            await google.colab.kernel.invokeFunction('convertToInteractive',\n",
              "                                                     [key], {});\n",
              "          if (!dataTable) return;\n",
              "\n",
              "          const docLinkHtml = 'Like what you see? Visit the ' +\n",
              "            '<a target=\"_blank\" href=https://colab.research.google.com/notebooks/data_table.ipynb>data table notebook</a>'\n",
              "            + ' to learn more about interactive tables.';\n",
              "          element.innerHTML = '';\n",
              "          dataTable['output_type'] = 'display_data';\n",
              "          await google.colab.output.renderOutput(dataTable, element);\n",
              "          const docLink = document.createElement('div');\n",
              "          docLink.innerHTML = docLinkHtml;\n",
              "          element.appendChild(docLink);\n",
              "        }\n",
              "      </script>\n",
              "    </div>\n",
              "  </div>\n",
              "  "
            ]
          },
          "metadata": {},
          "execution_count": 36
        }
      ]
    },
    {
      "cell_type": "markdown",
      "source": [
        "### Criando novos atributos nas variáveis de interesse do Dataframe df_sinasc_19_rj"
      ],
      "metadata": {
        "id": "xVNcu0R1kGaW"
      }
    },
    {
      "cell_type": "code",
      "source": [
        "df_sinasc_19_rj['CODMUNNASC'].unique()\n",
        "\n",
        "CODMUNNASC1={330010:'Angra dos Reis',\n",
        "330015:'Aperibé',\n",
        "330020:'Araruama',\n",
        "330022:'Areal',\n",
        "330023:'Armação dos Búzios',\n",
        "330025:'Arraial do Cabo',\n",
        "330030:'Barra do Piraí',\n",
        "330040:'Barra Mansa',\n",
        "330045:'Belford Roxo',\n",
        "330050:'Bom Jardim',\n",
        "330060:'Bom Jesus do Itabapoana',\n",
        "330070:'Cabo Frio',\n",
        "330080:'Cachoeiras de Macacu',\n",
        "330090:'Cambuci',\n",
        "330100:'Campos dos Goytacazes',\n",
        "330110:'Cantagalo',\n",
        "330093:'Carapebus',\n",
        "330115:'Cardoso Moreira',\n",
        "330120:'Carmo',\n",
        "330130:'Casimiro de Abreu',\n",
        "330095:'Comendador Levy Gasparian',\n",
        "330140:'Conceição de Macabu',\n",
        "330150:'Cordeiro',\n",
        "330160:'Duas Barras',\n",
        "330170:'Duque de Caxias',\n",
        "330180:'Engenheiro Paulo de Frontin',\n",
        "330185:'Guapimirim',\n",
        "330187:'Iguaba Grande',\n",
        "330190:'Itaboraí',\n",
        "330200:'Itaguaí',\n",
        "330205:'Italva',\n",
        "330210:'Itaocara',\n",
        "330220:'Itaperuna',\n",
        "330225:'Itatiaia',\n",
        "330227:'Japeri',\n",
        "330230:'Laje do Muriaé',\n",
        "330240:'Macaé',\n",
        "330245:'Macuco',\n",
        "330250:'Magé',\n",
        "330260:'Mangaratiba',\n",
        "330270:'Maricá',\n",
        "330280:'Mendes',\n",
        "330285:'Mesquita',\n",
        "330290:'Miguel Pereira',\n",
        "330300:'Miracema',\n",
        "330310:'Natividade',\n",
        "330320:'Nilópolis',\n",
        "330330:'Niterói',\n",
        "330340:'Nova Friburgo',\n",
        "330350:'Nova Iguaçu',\n",
        "330360:'Paracambi',\n",
        "330370:'Paraíba do Sul',\n",
        "330380:'Paraty',\n",
        "330385:'Paty do Alferes',\n",
        "330390:'Petrópolis',\n",
        "330395:'Pinheiral',\n",
        "330400:'Piraí',\n",
        "330410:'Porciúncula',\n",
        "330411:'Porto Real',\n",
        "330412:'Quatis',\n",
        "330414:'Queimados',\n",
        "330415:'Quissamã',\n",
        "330420:'Resende',\n",
        "330430:'Rio Bonito',\n",
        "330440:'Rio Claro',\n",
        "330450:'Rio das Flores',\n",
        "330452:'Rio das Ostras',\n",
        "330455:'Rio de Janeiro',\n",
        "330460:'Santa Maria Madalena',\n",
        "330470:'Santo Antônio de Pádua',\n",
        "330480:'São Fidélis',\n",
        "330475:'São Francisco de Itabapoana',\n",
        "330490:'São Gonçalo',\n",
        "330500:'São João da Barra',\n",
        "330510:'São João de Meriti',\n",
        "330513:'São José de Ubá',\n",
        "330515:'São José do Vale do Rio Preto',\n",
        "330520:'São Pedro da Aldeia',\n",
        "330530:'São Sebastião do Alto',\n",
        "330540:'Sapucaia',\n",
        "330550:'Saquarema',\n",
        "330555:'Seropédica',\n",
        "330560:'Silva Jardim',\n",
        "330570:'Sumidouro',\n",
        "330575:'Tanguá',\n",
        "330580:'Teresópolis',\n",
        "330590:'Trajano de Moraes',\n",
        "330600:'Três Rios',\n",
        "330610:'Valença',\n",
        "330615:'Varre-Sai',\n",
        "330620:'Vassouras',\n",
        "330630:'Volta Redonda',\n",
        "330000:'Município ignorado - RJ'\n",
        "}\n",
        "\n",
        "df_sinasc_19_rj['CODMUNNASC'].map(CODMUNNASC1)\n"
      ],
      "metadata": {
        "colab": {
          "base_uri": "https://localhost:8080/"
        },
        "id": "5E3z0IaxkFsy",
        "outputId": "0899792a-1e31-4cab-f868-b996433d05e2"
      },
      "execution_count": null,
      "outputs": [
        {
          "output_type": "execute_result",
          "data": {
            "text/plain": [
              "0                  Cabo Frio\n",
              "1                  Cabo Frio\n",
              "2                  Cabo Frio\n",
              "3                  Cabo Frio\n",
              "4                  Cabo Frio\n",
              "                 ...        \n",
              "207984    Armação dos Búzios\n",
              "207985               Itaguaí\n",
              "207986              Mesquita\n",
              "207987    Armação dos Búzios\n",
              "207988               Itaguaí\n",
              "Name: CODMUNNASC, Length: 207989, dtype: object"
            ]
          },
          "metadata": {},
          "execution_count": 37
        }
      ]
    },
    {
      "cell_type": "code",
      "source": [
        "df_sinasc_19_rj['CODMUNRES'].unique()\n",
        "\n",
        "CODMUNRES1={330010:'Angra dos Reis',\n",
        "330015:'Aperibé',\n",
        "330020:'Araruama',\n",
        "330022:'Areal',\n",
        "330023:'Armação dos Búzios',\n",
        "330025:'Arraial do Cabo',\n",
        "330030:'Barra do Piraí',\n",
        "330040:'Barra Mansa',\n",
        "330045:'Belford Roxo',\n",
        "330050:'Bom Jardim',\n",
        "330060:'Bom Jesus do Itabapoana',\n",
        "330070:'Cabo Frio',\n",
        "330080:'Cachoeiras de Macacu',\n",
        "330090:'Cambuci',\n",
        "330100:'Campos dos Goytacazes',\n",
        "330110:'Cantagalo',\n",
        "330093:'Carapebus',\n",
        "330115:'Cardoso Moreira',\n",
        "330120:'Carmo',\n",
        "330130:'Casimiro de Abreu',\n",
        "330095:'Comendador Levy Gasparian',\n",
        "330140:'Conceição de Macabu',\n",
        "330150:'Cordeiro',\n",
        "330160:'Duas Barras',\n",
        "330170:'Duque de Caxias',\n",
        "330180:'Engenheiro Paulo de Frontin',\n",
        "330185:'Guapimirim',\n",
        "330187:'Iguaba Grande',\n",
        "330190:'Itaboraí',\n",
        "330200:'Itaguaí',\n",
        "330205:'Italva',\n",
        "330210:'Itaocara',\n",
        "330220:'Itaperuna',\n",
        "330225:'Itatiaia',\n",
        "330227:'Japeri',\n",
        "330230:'Laje do Muriaé',\n",
        "330240:'Macaé',\n",
        "330245:'Macuco',\n",
        "330250:'Magé',\n",
        "330260:'Mangaratiba',\n",
        "330270:'Maricá',\n",
        "330280:'Mendes',\n",
        "330285:'Mesquita',\n",
        "330290:'Miguel Pereira',\n",
        "330300:'Miracema',\n",
        "330310:'Natividade',\n",
        "330320:'Nilópolis',\n",
        "330330:'Niterói',\n",
        "330340:'Nova Friburgo',\n",
        "330350:'Nova Iguaçu',\n",
        "330360:'Paracambi',\n",
        "330370:'Paraíba do Sul',\n",
        "330380:'Paraty',\n",
        "330385:'Paty do Alferes',\n",
        "330390:'Petrópolis',\n",
        "330395:'Pinheiral',\n",
        "330400:'Piraí',\n",
        "330410:'Porciúncula',\n",
        "330411:'Porto Real',\n",
        "330412:'Quatis',\n",
        "330414:'Queimados',\n",
        "330415:'Quissamã',\n",
        "330420:'Resende',\n",
        "330430:'Rio Bonito',\n",
        "330440:'Rio Claro',\n",
        "330450:'Rio das Flores',\n",
        "330452:'Rio das Ostras',\n",
        "330455:'Rio de Janeiro',\n",
        "330460:'Santa Maria Madalena',\n",
        "330470:'Santo Antônio de Pádua',\n",
        "330480:'São Fidélis',\n",
        "330475:'São Francisco de Itabapoana',\n",
        "330490:'São Gonçalo',\n",
        "330500:'São João da Barra',\n",
        "330510:'São João de Meriti',\n",
        "330513:'São José de Ubá',\n",
        "330515:'São José do Vale do Rio Preto',\n",
        "330520:'São Pedro da Aldeia',\n",
        "330530:'São Sebastião do Alto',\n",
        "330540:'Sapucaia',\n",
        "330550:'Saquarema',\n",
        "330555:'Seropédica',\n",
        "330560:'Silva Jardim',\n",
        "330570:'Sumidouro',\n",
        "330575:'Tanguá',\n",
        "330580:'Teresópolis',\n",
        "330590:'Trajano de Moraes',\n",
        "330600:'Três Rios',\n",
        "330610:'Valença',\n",
        "330615:'Varre-Sai',\n",
        "330620:'Vassouras',\n",
        "330630:'Volta Redonda',\n",
        "330000:'Município ignorado - RJ'\n",
        "}\n",
        "\n",
        "df_sinasc_19_rj['CODMUNRES'].map(CODMUNRES1)\n"
      ],
      "metadata": {
        "colab": {
          "base_uri": "https://localhost:8080/"
        },
        "outputId": "c244464f-3d29-4b52-a5a4-f4ed67a5664a",
        "id": "5vkUheZQvExu"
      },
      "execution_count": null,
      "outputs": [
        {
          "output_type": "execute_result",
          "data": {
            "text/plain": [
              "0                  Cabo Frio\n",
              "1                  Cabo Frio\n",
              "2         Armação dos Búzios\n",
              "3                  Cabo Frio\n",
              "4                  Cabo Frio\n",
              "                 ...        \n",
              "207984    Armação dos Búzios\n",
              "207985               Itaguaí\n",
              "207986          Belford Roxo\n",
              "207987    Armação dos Búzios\n",
              "207988               Itaguaí\n",
              "Name: CODMUNRES, Length: 207989, dtype: object"
            ]
          },
          "metadata": {},
          "execution_count": 38
        }
      ]
    },
    {
      "cell_type": "code",
      "source": [
        "df_sinasc_19_rj['LOCNASC'].unique()\n",
        "\n",
        "LOCNASC1={9:'Ignorado', 1:'Hospital', 2:'Outro Estab Saúde', 3:'Domicílio', 4:'Outros'}\n",
        "\n",
        "df_sinasc_19_rj['LOCNASC'].map(LOCNASC1)"
      ],
      "metadata": {
        "colab": {
          "base_uri": "https://localhost:8080/"
        },
        "outputId": "4a310dac-3772-480a-eb62-0b1ea4d90e4f",
        "id": "S9dJT7EUDh52"
      },
      "execution_count": null,
      "outputs": [
        {
          "output_type": "execute_result",
          "data": {
            "text/plain": [
              "0          Hospital\n",
              "1          Hospital\n",
              "2          Hospital\n",
              "3          Hospital\n",
              "4          Hospital\n",
              "            ...    \n",
              "207984     Hospital\n",
              "207985     Hospital\n",
              "207986     Hospital\n",
              "207987     Hospital\n",
              "207988    Domicílio\n",
              "Name: LOCNASC, Length: 207989, dtype: object"
            ]
          },
          "metadata": {},
          "execution_count": 39
        }
      ]
    },
    {
      "cell_type": "code",
      "source": [
        "df_sinasc_19_rj['ESTCIVMAE'].unique()\n",
        "\n",
        "ESTCIVMAE1={1:'Solteira', 2:'Casada', 3:'Viuva', 4:'Separado judicialmente/Divorciado', 5:'União consensual', 9: 'Ignorado'}\n",
        "\n",
        "df_sinasc_19_rj['ESTCIVMAE'].map(ESTCIVMAE1)"
      ],
      "metadata": {
        "colab": {
          "base_uri": "https://localhost:8080/"
        },
        "id": "wwnAqkgdmimv",
        "outputId": "2cc042d6-c121-453b-a27a-d7f10b31d656"
      },
      "execution_count": null,
      "outputs": [
        {
          "output_type": "execute_result",
          "data": {
            "text/plain": [
              "0         Solteira\n",
              "1         Solteira\n",
              "2         Solteira\n",
              "3           Casada\n",
              "4         Solteira\n",
              "            ...   \n",
              "207984    Solteira\n",
              "207985    Solteira\n",
              "207986    Solteira\n",
              "207987    Solteira\n",
              "207988    Solteira\n",
              "Name: ESTCIVMAE, Length: 207989, dtype: object"
            ]
          },
          "metadata": {},
          "execution_count": 40
        }
      ]
    },
    {
      "cell_type": "code",
      "source": [
        "df_sinasc_19_rj['ESCMAE'].unique()\n",
        "\n",
        "ESCMAE1={1:'Nenhuma', 2:'1 a 3 anos', 3:'4 a 7 anos', 4:'8 a 11 anos', 5:'12 e mais', 9: 'Ignorado'}\n",
        "\n",
        "df_sinasc_19_rj['ESCMAE'].map(ESCMAE1)"
      ],
      "metadata": {
        "colab": {
          "base_uri": "https://localhost:8080/"
        },
        "id": "P0sfjU05mivP",
        "outputId": "84cbaccd-1e9a-495d-c66d-cc8106f27d6e"
      },
      "execution_count": null,
      "outputs": [
        {
          "output_type": "execute_result",
          "data": {
            "text/plain": [
              "0         8 a 11 anos\n",
              "1         8 a 11 anos\n",
              "2          4 a 7 anos\n",
              "3         8 a 11 anos\n",
              "4          4 a 7 anos\n",
              "             ...     \n",
              "207984     4 a 7 anos\n",
              "207985    8 a 11 anos\n",
              "207986    8 a 11 anos\n",
              "207987     4 a 7 anos\n",
              "207988    8 a 11 anos\n",
              "Name: ESCMAE, Length: 207989, dtype: object"
            ]
          },
          "metadata": {},
          "execution_count": 41
        }
      ]
    },
    {
      "cell_type": "code",
      "source": [
        "df_sinasc_19_rj['GESTACAO'].unique()\n",
        "\n",
        "GESTACAO1={9:'Ignorado', 1:'Menos de 22 semanas', 2:'22 a 27 semanas', 3:'28 a 31 semanas', 4:'32 a 36 semanas', 5:'37 a 41 semanas', 6:'42 semanas e mais'}\n",
        "\n",
        "df_sinasc_19_rj['GESTACAO'].map(GESTACAO1)"
      ],
      "metadata": {
        "colab": {
          "base_uri": "https://localhost:8080/"
        },
        "id": "pR3H93t7tqVd",
        "outputId": "159dd68f-2b83-4587-f1c2-78002d49ccf1"
      },
      "execution_count": null,
      "outputs": [
        {
          "output_type": "execute_result",
          "data": {
            "text/plain": [
              "0         37 a 41 semanas\n",
              "1         37 a 41 semanas\n",
              "2         37 a 41 semanas\n",
              "3         37 a 41 semanas\n",
              "4         32 a 36 semanas\n",
              "               ...       \n",
              "207984    37 a 41 semanas\n",
              "207985    37 a 41 semanas\n",
              "207986    37 a 41 semanas\n",
              "207987    37 a 41 semanas\n",
              "207988    37 a 41 semanas\n",
              "Name: GESTACAO, Length: 207989, dtype: object"
            ]
          },
          "metadata": {},
          "execution_count": 42
        }
      ]
    },
    {
      "cell_type": "code",
      "source": [
        "df_sinasc_19_rj['PARTO'].unique()\n",
        "\n",
        "PARTO1={9:'ignorado/NI', 1:'Vaginal', 2:'Cesáreo'}\n",
        "\n",
        "df_sinasc_19_rj['PARTO'].map(PARTO1)"
      ],
      "metadata": {
        "colab": {
          "base_uri": "https://localhost:8080/"
        },
        "id": "eB-Hh89ami1o",
        "outputId": "a73f1308-8b9d-4317-c199-446f593df49b"
      },
      "execution_count": null,
      "outputs": [
        {
          "output_type": "execute_result",
          "data": {
            "text/plain": [
              "0         Vaginal\n",
              "1         Vaginal\n",
              "2         Cesáreo\n",
              "3         Vaginal\n",
              "4         Vaginal\n",
              "           ...   \n",
              "207984    Cesáreo\n",
              "207985    Cesáreo\n",
              "207986    Vaginal\n",
              "207987    Cesáreo\n",
              "207988    Vaginal\n",
              "Name: PARTO, Length: 207989, dtype: object"
            ]
          },
          "metadata": {},
          "execution_count": 43
        }
      ]
    },
    {
      "cell_type": "code",
      "source": [
        "df_sinasc_19_rj['SEXO'].unique()\n",
        "\n",
        "SEXO1={0:'Ignorado/NI', 1:'Masculino', 2:'Feminino'}\n",
        "\n",
        "df_sinasc_19_rj['SEXO'].map(SEXO1)"
      ],
      "metadata": {
        "colab": {
          "base_uri": "https://localhost:8080/"
        },
        "id": "pa9Fes7smi65",
        "outputId": "c4301630-d080-42b4-acc8-135e38f550fd"
      },
      "execution_count": null,
      "outputs": [
        {
          "output_type": "execute_result",
          "data": {
            "text/plain": [
              "0         Masculino\n",
              "1         Masculino\n",
              "2          Feminino\n",
              "3         Masculino\n",
              "4         Masculino\n",
              "            ...    \n",
              "207984     Feminino\n",
              "207985     Feminino\n",
              "207986     Feminino\n",
              "207987    Masculino\n",
              "207988     Feminino\n",
              "Name: SEXO, Length: 207989, dtype: object"
            ]
          },
          "metadata": {},
          "execution_count": 44
        }
      ]
    },
    {
      "cell_type": "code",
      "source": [
        "df_sinasc_19_rj['RACACOR'].unique()\n",
        "\n",
        "RACACOR1={1:'Branca', 2:'Preta', 3:'Amarela', 4:'Parda', 5:'Indígena'}\n",
        "\n",
        "df_sinasc_19_rj['RACACOR'].map(RACACOR1)"
      ],
      "metadata": {
        "colab": {
          "base_uri": "https://localhost:8080/"
        },
        "id": "nV4xt_NJptB5",
        "outputId": "0ccad982-1bfa-4b35-9c1d-c85e232625bd"
      },
      "execution_count": null,
      "outputs": [
        {
          "output_type": "execute_result",
          "data": {
            "text/plain": [
              "0          Parda\n",
              "1         Branca\n",
              "2          Preta\n",
              "3          Parda\n",
              "4          Parda\n",
              "           ...  \n",
              "207984     Parda\n",
              "207985     Preta\n",
              "207986     Preta\n",
              "207987     Parda\n",
              "207988     Parda\n",
              "Name: RACACOR, Length: 207989, dtype: object"
            ]
          },
          "metadata": {},
          "execution_count": 45
        }
      ]
    },
    {
      "cell_type": "code",
      "source": [
        "df_sinasc_19_rj['RACACORMAE'].unique()\n",
        "\n",
        "RACACORMAE1={1:'Branca', 2:'Preta', 3:'Amarela', 4:'Parda', 5:'Indígena'}\n",
        "\n",
        "df_sinasc_19_rj['RACACORMAE'].map(RACACORMAE1)"
      ],
      "metadata": {
        "colab": {
          "base_uri": "https://localhost:8080/"
        },
        "outputId": "aa5db99d-19be-4a5d-fd50-d3dbacefe499",
        "id": "WmLF5jd9qk_W"
      },
      "execution_count": null,
      "outputs": [
        {
          "output_type": "execute_result",
          "data": {
            "text/plain": [
              "0          Parda\n",
              "1         Branca\n",
              "2          Preta\n",
              "3          Parda\n",
              "4          Parda\n",
              "           ...  \n",
              "207984     Parda\n",
              "207985     Preta\n",
              "207986     Preta\n",
              "207987     Parda\n",
              "207988     Parda\n",
              "Name: RACACORMAE, Length: 207989, dtype: object"
            ]
          },
          "metadata": {},
          "execution_count": 46
        }
      ]
    },
    {
      "cell_type": "code",
      "source": [
        "df_sinasc_19_rj['IDANOMAL'].unique()\n",
        "\n",
        "IDANOMAL1={9: 'Ignorado', 1:'Sim', 2:'Não'}\n",
        "\n",
        "df_sinasc_19_rj['IDANOMAL'].map(IDANOMAL1)"
      ],
      "metadata": {
        "colab": {
          "base_uri": "https://localhost:8080/"
        },
        "id": "1DMTQS2VpwAK",
        "outputId": "954f94aa-01f0-4223-d6c3-36023dd54546"
      },
      "execution_count": null,
      "outputs": [
        {
          "output_type": "execute_result",
          "data": {
            "text/plain": [
              "0         Não\n",
              "1         Não\n",
              "2         Não\n",
              "3         Não\n",
              "4         Não\n",
              "         ... \n",
              "207984    Não\n",
              "207985    Não\n",
              "207986    Não\n",
              "207987    Não\n",
              "207988    Sim\n",
              "Name: IDANOMAL, Length: 207989, dtype: object"
            ]
          },
          "metadata": {},
          "execution_count": 47
        }
      ]
    },
    {
      "cell_type": "code",
      "source": [
        "df_sinasc_19_rj['TPAPRESENT'].unique()\n",
        "\n",
        "TPAPRESENT1={1:'Cefálico', 2:'Pélvica ou podálica', 3:'Transversa', 9:'Ignorado'}\n",
        "\n",
        "df_sinasc_19_rj['TPAPRESENT'].map(TPAPRESENT1)"
      ],
      "metadata": {
        "colab": {
          "base_uri": "https://localhost:8080/"
        },
        "id": "Rp3wB0nWpwKZ",
        "outputId": "57bc49a5-619e-41c8-f7df-4de5071a9a60"
      },
      "execution_count": null,
      "outputs": [
        {
          "output_type": "execute_result",
          "data": {
            "text/plain": [
              "0         Cefálico\n",
              "1         Cefálico\n",
              "2         Cefálico\n",
              "3         Cefálico\n",
              "4         Cefálico\n",
              "            ...   \n",
              "207984    Cefálico\n",
              "207985    Cefálico\n",
              "207986    Cefálico\n",
              "207987    Cefálico\n",
              "207988    Cefálico\n",
              "Name: TPAPRESENT, Length: 207989, dtype: object"
            ]
          },
          "metadata": {},
          "execution_count": 48
        }
      ]
    },
    {
      "cell_type": "code",
      "source": [
        "df_sinasc_19_rj['STTRABPART'].unique()\n",
        "\n",
        "STTRABPART1={1:'Sim', 2:'Não', 3:'NA', 9: 'Ignorado'}\n",
        "\n",
        "df_sinasc_19_rj['STTRABPART'].map(STTRABPART1)"
      ],
      "metadata": {
        "colab": {
          "base_uri": "https://localhost:8080/"
        },
        "id": "cFq2Y5urpwSY",
        "outputId": "f95a3e5c-3eee-4375-db90-710bc52f200b"
      },
      "execution_count": null,
      "outputs": [
        {
          "output_type": "execute_result",
          "data": {
            "text/plain": [
              "0         Não\n",
              "1         Não\n",
              "2         Não\n",
              "3         Sim\n",
              "4         Sim\n",
              "         ... \n",
              "207984    Não\n",
              "207985    Não\n",
              "207986    Não\n",
              "207987    Não\n",
              "207988    Não\n",
              "Name: STTRABPART, Length: 207989, dtype: object"
            ]
          },
          "metadata": {},
          "execution_count": 49
        }
      ]
    },
    {
      "cell_type": "code",
      "source": [
        "df_sinasc_19_rj['STCESPARTO'].unique()\n",
        "\n",
        "STCESPARTO1={1:'Sim', 2:'Não', 3:'NA', 9: 'Ignorado'}\n",
        "\n",
        "df_sinasc_19_rj['STCESPARTO'].map(STCESPARTO1)"
      ],
      "metadata": {
        "colab": {
          "base_uri": "https://localhost:8080/"
        },
        "id": "ZzHqplXQpwZO",
        "outputId": "78ebdf82-1412-487c-dd3f-9c83b73361e1"
      },
      "execution_count": null,
      "outputs": [
        {
          "output_type": "execute_result",
          "data": {
            "text/plain": [
              "0          NA\n",
              "1          NA\n",
              "2         Não\n",
              "3          NA\n",
              "4          NA\n",
              "         ... \n",
              "207984    Sim\n",
              "207985    Sim\n",
              "207986     NA\n",
              "207987    Não\n",
              "207988     NA\n",
              "Name: STCESPARTO, Length: 207989, dtype: object"
            ]
          },
          "metadata": {},
          "execution_count": 50
        }
      ]
    },
    {
      "cell_type": "code",
      "source": [
        "df_sinasc_19_rj['TPNASCASSI'].unique()\n",
        "\n",
        "TPNASCASSI1={1:'Médico', 2:'Enfermeira/obstetriz', 3:'Parteira', 4:'Outros', 9: 'Ignorado'}\n",
        "\n",
        "df_sinasc_19_rj['TPNASCASSI'].map(TPNASCASSI1)"
      ],
      "metadata": {
        "colab": {
          "base_uri": "https://localhost:8080/"
        },
        "id": "aeuRKphspwfR",
        "outputId": "9ef0c794-810d-4bd5-fe43-a8152c65e67d"
      },
      "execution_count": null,
      "outputs": [
        {
          "output_type": "execute_result",
          "data": {
            "text/plain": [
              "0                       Médico\n",
              "1                       Médico\n",
              "2                       Médico\n",
              "3                       Médico\n",
              "4                       Médico\n",
              "                  ...         \n",
              "207984                  Médico\n",
              "207985                  Médico\n",
              "207986    Enfermeira/obstetriz\n",
              "207987                  Médico\n",
              "207988                  Outros\n",
              "Name: TPNASCASSI, Length: 207989, dtype: object"
            ]
          },
          "metadata": {},
          "execution_count": 51
        }
      ]
    },
    {
      "cell_type": "code",
      "source": [
        "df_sinasc_19_rj['CONSULTAS'].unique()\n",
        "\n",
        "CONSULTAS1={1:'Nenhuma', 2:'de 1 a 3', 3:'de 4 a 6', 4:'7 e mais', 9:'Ignorado'}\n",
        "\n",
        "df_sinasc_19_rj['CONSULTAS'].map(CONSULTAS1)"
      ],
      "metadata": {
        "colab": {
          "base_uri": "https://localhost:8080/"
        },
        "outputId": "288c8b09-45cd-4a10-d615-31c27b949f8d",
        "id": "CwRNoOJQD_MZ"
      },
      "execution_count": null,
      "outputs": [
        {
          "output_type": "execute_result",
          "data": {
            "text/plain": [
              "0         de 4 a 6\n",
              "1         7 e mais\n",
              "2         de 4 a 6\n",
              "3         7 e mais\n",
              "4         de 4 a 6\n",
              "            ...   \n",
              "207984    7 e mais\n",
              "207985    de 4 a 6\n",
              "207986    de 1 a 3\n",
              "207987    de 1 a 3\n",
              "207988    de 4 a 6\n",
              "Name: CONSULTAS, Length: 207989, dtype: object"
            ]
          },
          "metadata": {},
          "execution_count": 52
        }
      ]
    },
    {
      "cell_type": "code",
      "source": [
        "df_sinasc_19_rj['CODMUNRES'] = df_sinasc_19_rj['CODMUNRES'].map(CODMUNRES1)\n",
        "df_sinasc_19_rj['CODMUNNASC'] = df_sinasc_19_rj['CODMUNNASC'].map(CODMUNNASC1)\n",
        "df_sinasc_19_rj['LOCNASC'] = df_sinasc_19_rj['LOCNASC'].map(LOCNASC1)\n",
        "df_sinasc_19_rj['ESTCIVMAE'] = df_sinasc_19_rj['ESTCIVMAE'].map(ESTCIVMAE1)\n",
        "df_sinasc_19_rj['ESCMAE'] = df_sinasc_19_rj['ESCMAE'].map(ESCMAE1)\n",
        "df_sinasc_19_rj['GESTACAO'] = df_sinasc_19_rj['GESTACAO'].map(GESTACAO1)\n",
        "df_sinasc_19_rj['PARTO'] = df_sinasc_19_rj['PARTO'].map(PARTO1)\n",
        "df_sinasc_19_rj['CONSULTAS'] = df_sinasc_19_rj['CONSULTAS'].map(CONSULTAS1)\n",
        "df_sinasc_19_rj['SEXO'] = df_sinasc_19_rj['SEXO'].map(SEXO1)\n",
        "df_sinasc_19_rj['RACACOR'] = df_sinasc_19_rj['RACACOR'].map(RACACOR1)\n",
        "df_sinasc_19_rj['IDANOMAL'] = df_sinasc_19_rj['IDANOMAL'].map(IDANOMAL1)\n",
        "df_sinasc_19_rj['RACACORMAE'] = df_sinasc_19_rj['RACACORMAE'].map(RACACORMAE1)\n",
        "df_sinasc_19_rj['TPAPRESENT'] = df_sinasc_19_rj['TPAPRESENT'].map(TPAPRESENT1)\n",
        "df_sinasc_19_rj['STTRABPART'] = df_sinasc_19_rj['STTRABPART'].map(STTRABPART1)\n",
        "df_sinasc_19_rj['STCESPARTO'] = df_sinasc_19_rj['STCESPARTO'].map(STCESPARTO1)\n",
        "df_sinasc_19_rj['TPNASCASSI'] = df_sinasc_19_rj['TPNASCASSI'].map(TPNASCASSI1)\n",
        "\n",
        "print(df_sinasc_19_rj)"
      ],
      "metadata": {
        "colab": {
          "base_uri": "https://localhost:8080/"
        },
        "id": "qEhElf_3r4wt",
        "outputId": "18f9cd5b-ee57-4d42-b471-08035491afd1"
      },
      "execution_count": null,
      "outputs": [
        {
          "output_type": "stream",
          "name": "stdout",
          "text": [
            "         CODESTAB          CODMUNNASC    LOCNASC  IDADEMAE ESTCIVMAE  \\\n",
            "0       5903394.0           Cabo Frio   Hospital      19.0  Solteira   \n",
            "1       5903394.0           Cabo Frio   Hospital      19.0  Solteira   \n",
            "2       5903394.0           Cabo Frio   Hospital      25.0  Solteira   \n",
            "3       5903394.0           Cabo Frio   Hospital      30.0    Casada   \n",
            "4       5903394.0           Cabo Frio   Hospital      22.0  Solteira   \n",
            "...           ...                 ...        ...       ...       ...   \n",
            "207984  6200702.0  Armação dos Búzios   Hospital      35.0  Solteira   \n",
            "207985  2284634.0             Itaguaí   Hospital      20.0  Solteira   \n",
            "207986  7011857.0            Mesquita   Hospital      16.0  Solteira   \n",
            "207987  6200702.0  Armação dos Búzios   Hospital      30.0  Solteira   \n",
            "207988        NaN             Itaguaí  Domicílio      18.0  Solteira   \n",
            "\n",
            "             ESCMAE  CODOCUPMAE  QTDFILVIVO  QTDFILMORT           CODMUNRES  \\\n",
            "0       8 a 11 anos         NaN         0.0         0.0           Cabo Frio   \n",
            "1       8 a 11 anos    999992.0         0.0         0.0           Cabo Frio   \n",
            "2        4 a 7 anos    999992.0         0.0         0.0  Armação dos Búzios   \n",
            "3       8 a 11 anos    999992.0         1.0         1.0           Cabo Frio   \n",
            "4        4 a 7 anos    999992.0         0.0         0.0           Cabo Frio   \n",
            "...             ...         ...         ...         ...                 ...   \n",
            "207984   4 a 7 anos    999992.0         5.0         1.0  Armação dos Búzios   \n",
            "207985  8 a 11 anos    999992.0         1.0         0.0             Itaguaí   \n",
            "207986  8 a 11 anos    999991.0         0.0         0.0        Belford Roxo   \n",
            "207987   4 a 7 anos    999992.0         4.0         4.0  Armação dos Búzios   \n",
            "207988  8 a 11 anos    999992.0         1.0         0.0             Itaguaí   \n",
            "\n",
            "        ... TPMETESTIM  CONSPRENAT MESPRENAT TPAPRESENT  STTRABPART  \\\n",
            "0       ...        8.0         6.0       4.0   Cefálico         Não   \n",
            "1       ...        1.0        10.0       4.0   Cefálico         Não   \n",
            "2       ...        8.0         6.0       4.0   Cefálico         Não   \n",
            "3       ...        1.0         7.0       3.0   Cefálico         Sim   \n",
            "4       ...        8.0         6.0       5.0   Cefálico         Sim   \n",
            "...     ...        ...         ...       ...        ...         ...   \n",
            "207984  ...        8.0         7.0       3.0   Cefálico         Não   \n",
            "207985  ...        2.0         5.0       7.0   Cefálico         Não   \n",
            "207986  ...        1.0         3.0       6.0   Cefálico         Não   \n",
            "207987  ...        8.0         2.0       6.0   Cefálico         Não   \n",
            "207988  ...        8.0         5.0       6.0   Cefálico         Não   \n",
            "\n",
            "        STCESPARTO            TPNASCASSI  ESCMAEAGR1  CODPAISRES TPROBSON  \n",
            "0               NA                Médico         5.0           1      1.0  \n",
            "1               NA                Médico         6.0           1      1.0  \n",
            "2              Não                Médico         3.0           1      1.0  \n",
            "3               NA                Médico         6.0           1      5.0  \n",
            "4               NA                Médico         3.0           1     10.0  \n",
            "...            ...                   ...         ...         ...      ...  \n",
            "207984         Sim                Médico         2.0           1      5.0  \n",
            "207985         Sim                Médico         5.0           1      5.0  \n",
            "207986          NA  Enfermeira/obstetriz         5.0           1      1.0  \n",
            "207987         Não                Médico         3.0           1      5.0  \n",
            "207988          NA                Outros         5.0           1      5.0  \n",
            "\n",
            "[207989 rows x 47 columns]\n"
          ]
        }
      ]
    },
    {
      "cell_type": "markdown",
      "source": [
        "##Analisando a distribuição das variáveis"
      ],
      "metadata": {
        "id": "9vqg0xvgZD27"
      }
    },
    {
      "cell_type": "code",
      "source": [
        "#Local de nascimento\n",
        "sns.countplot(x='LOCNASC', data=df_sinasc_19_rj, hue=\"LOCNASC\")"
      ],
      "metadata": {
        "colab": {
          "base_uri": "https://localhost:8080/",
          "height": 296
        },
        "id": "DaIMVZqYd-A2",
        "outputId": "a2dc8a2b-06c6-4fe4-93de-91eca67015af"
      },
      "execution_count": null,
      "outputs": [
        {
          "output_type": "execute_result",
          "data": {
            "text/plain": [
              "<matplotlib.axes._subplots.AxesSubplot at 0x7f43400caf50>"
            ]
          },
          "metadata": {},
          "execution_count": 55
        },
        {
          "output_type": "display_data",
          "data": {
            "text/plain": [
              "<Figure size 432x288 with 1 Axes>"
            ],
            "image/png": "[encoded data removed]"
          },
          "metadata": {
            "needs_background": "light"
          }
        }
      ]
    },
    {
      "cell_type": "code",
      "source": [
        "#Idade da mãe\n",
        "df_sinasc_19_rj.IDADEMAE.describe()"
      ],
      "metadata": {
        "colab": {
          "base_uri": "https://localhost:8080/"
        },
        "id": "V-UO711mQ243",
        "outputId": "bcd76ead-ded7-4e91-8ea8-a8b9f192d9ad"
      },
      "execution_count": null,
      "outputs": [
        {
          "output_type": "execute_result",
          "data": {
            "text/plain": [
              "count    207989.000000\n",
              "mean         27.317671\n",
              "std           6.852959\n",
              "min          10.000000\n",
              "25%          22.000000\n",
              "50%          27.000000\n",
              "75%          32.000000\n",
              "max          99.000000\n",
              "Name: IDADEMAE, dtype: float64"
            ]
          },
          "metadata": {},
          "execution_count": 56
        }
      ]
    },
    {
      "cell_type": "code",
      "source": [
        "df_sinasc_19_rj.IDADEMAE.hist(bins=50, figsize=(15,8))\n",
        "plt.show()"
      ],
      "metadata": {
        "colab": {
          "base_uri": "https://localhost:8080/",
          "height": 483
        },
        "id": "2ZIh7PbWTMtP",
        "outputId": "b8b94a35-027c-4b64-d582-3c8db081e9ab"
      },
      "execution_count": null,
      "outputs": [
        {
          "output_type": "display_data",
          "data": {
            "text/plain": [
              "<Figure size 1080x576 with 1 Axes>"
            ],
            "image/png": "[encoded data removed]"
          },
          "metadata": {
            "needs_background": "light"
          }
        }
      ]
    },
    {
      "cell_type": "code",
      "source": [
        "#Estado civil da mãe\n",
        "sns.countplot(x='ESTCIVMAE', data=df_sinasc_19_rj, hue=\"ESTCIVMAE\")"
      ],
      "metadata": {
        "colab": {
          "base_uri": "https://localhost:8080/",
          "height": 296
        },
        "id": "MPNaUpHKdcoA",
        "outputId": "2504a958-4d99-4ac0-a3e3-9e66e81fa279"
      },
      "execution_count": null,
      "outputs": [
        {
          "output_type": "execute_result",
          "data": {
            "text/plain": [
              "<matplotlib.axes._subplots.AxesSubplot at 0x7f432cbd7990>"
            ]
          },
          "metadata": {},
          "execution_count": 59
        },
        {
          "output_type": "display_data",
          "data": {
            "text/plain": [
              "<Figure size 432x288 with 1 Axes>"
            ],
            "image/png": "[encoded data removed]"
          },
          "metadata": {
            "needs_background": "light"
          }
        }
      ]
    },
    {
      "cell_type": "code",
      "source": [
        "#Escolaridade da mãe\n",
        "sns.countplot(x='ESCMAE', data=df_sinasc_19_rj, hue=\"ESCMAE\")"
      ],
      "metadata": {
        "colab": {
          "base_uri": "https://localhost:8080/",
          "height": 296
        },
        "id": "OmPXQzOMeEC7",
        "outputId": "60580cd4-a5f6-4ea5-800a-9d0d66b96bfb"
      },
      "execution_count": null,
      "outputs": [
        {
          "output_type": "execute_result",
          "data": {
            "text/plain": [
              "<matplotlib.axes._subplots.AxesSubplot at 0x7f432cb46210>"
            ]
          },
          "metadata": {},
          "execution_count": 61
        },
        {
          "output_type": "display_data",
          "data": {
            "text/plain": [
              "<Figure size 432x288 with 1 Axes>"
            ],
            "image/png": "[encoded data removed]"
          },
          "metadata": {
            "needs_background": "light"
          }
        }
      ]
    },
    {
      "cell_type": "code",
      "source": [
        "#n de gestações anteriores\n",
        "df_sinasc_19_rj.QTDGESTANT.describe()"
      ],
      "metadata": {
        "colab": {
          "base_uri": "https://localhost:8080/"
        },
        "outputId": "ad7641d2-b662-499e-b1c5-f636266259c5",
        "id": "wJUjRCq3SeAG"
      },
      "execution_count": null,
      "outputs": [
        {
          "output_type": "execute_result",
          "data": {
            "text/plain": [
              "count    206723.000000\n",
              "mean          1.185204\n",
              "std           1.488054\n",
              "min           0.000000\n",
              "25%           0.000000\n",
              "50%           1.000000\n",
              "75%           2.000000\n",
              "max          99.000000\n",
              "Name: QTDGESTANT, dtype: float64"
            ]
          },
          "metadata": {},
          "execution_count": 62
        }
      ]
    },
    {
      "cell_type": "code",
      "source": [
        "df_sinasc_19_rj.QTDGESTANT.hist(bins=50, figsize=(15,8))\n",
        "plt.show()"
      ],
      "metadata": {
        "colab": {
          "base_uri": "https://localhost:8080/",
          "height": 483
        },
        "id": "FJn0FM7dTU2z",
        "outputId": "2450e3e3-644b-44dd-859a-794a8f67025d"
      },
      "execution_count": null,
      "outputs": [
        {
          "output_type": "display_data",
          "data": {
            "text/plain": [
              "<Figure size 1080x576 with 1 Axes>"
            ],
            "image/png": "[encoded data removed]"
          },
          "metadata": {
            "needs_background": "light"
          }
        }
      ]
    },
    {
      "cell_type": "code",
      "source": [
        "#Raça/cor da mãe\n",
        "sns.countplot(x='RACACORMAE', data=df_sinasc_19_rj, hue=\"RACACORMAE\")"
      ],
      "metadata": {
        "colab": {
          "base_uri": "https://localhost:8080/",
          "height": 297
        },
        "id": "IQaxfRZjfJDl",
        "outputId": "40c32a3e-33b6-4bcb-9f04-846d64f598d7"
      },
      "execution_count": null,
      "outputs": [
        {
          "output_type": "execute_result",
          "data": {
            "text/plain": [
              "<matplotlib.axes._subplots.AxesSubplot at 0x7f432c936190>"
            ]
          },
          "metadata": {},
          "execution_count": 65
        },
        {
          "output_type": "display_data",
          "data": {
            "text/plain": [
              "<Figure size 432x288 with 1 Axes>"
            ],
            "image/png": "[encoded data removed]"
          },
          "metadata": {
            "needs_background": "light"
          }
        }
      ]
    },
    {
      "cell_type": "code",
      "source": [
        "#Raça/cor do nascido vivo\n",
        "sns.countplot(x='RACACOR', data=df_sinasc_19_rj, hue=\"RACACOR\")"
      ],
      "metadata": {
        "colab": {
          "base_uri": "https://localhost:8080/",
          "height": 297
        },
        "id": "I7X4JE2Aeuvv",
        "outputId": "7ad91986-0fb8-45b9-9690-3cb71f306785"
      },
      "execution_count": null,
      "outputs": [
        {
          "output_type": "execute_result",
          "data": {
            "text/plain": [
              "<matplotlib.axes._subplots.AxesSubplot at 0x7f432c8baf10>"
            ]
          },
          "metadata": {},
          "execution_count": 67
        },
        {
          "output_type": "display_data",
          "data": {
            "text/plain": [
              "<Figure size 432x288 with 1 Axes>"
            ],
            "image/png": "[encoded data removed]"
          },
          "metadata": {
            "needs_background": "light"
          }
        }
      ]
    },
    {
      "cell_type": "code",
      "source": [
        "#n de consultas pré-natal\n",
        "sns.countplot(x='CONSULTAS', data=df_sinasc_19_rj, hue=\"CONSULTAS\")"
      ],
      "metadata": {
        "colab": {
          "base_uri": "https://localhost:8080/",
          "height": 296
        },
        "id": "idkFyMeled5j",
        "outputId": "df7714f9-954a-485e-94d4-e55bae16b253"
      },
      "execution_count": null,
      "outputs": [
        {
          "output_type": "execute_result",
          "data": {
            "text/plain": [
              "<matplotlib.axes._subplots.AxesSubplot at 0x7f432c88c810>"
            ]
          },
          "metadata": {},
          "execution_count": 68
        },
        {
          "output_type": "display_data",
          "data": {
            "text/plain": [
              "<Figure size 432x288 with 1 Axes>"
            ],
            "image/png": "[encoded data removed]"
          },
          "metadata": {
            "needs_background": "light"
          }
        }
      ]
    },
    {
      "cell_type": "code",
      "source": [
        "#sexo do nascido vivo\n",
        "sns.countplot(x='SEXO', data=df_sinasc_19_rj, hue=\"SEXO\")"
      ],
      "metadata": {
        "colab": {
          "base_uri": "https://localhost:8080/",
          "height": 296
        },
        "outputId": "7e8afc2e-850d-462b-d87b-e63a722927e6",
        "id": "EzntC9-Iekz_"
      },
      "execution_count": null,
      "outputs": [
        {
          "output_type": "execute_result",
          "data": {
            "text/plain": [
              "<matplotlib.axes._subplots.AxesSubplot at 0x7f432c705090>"
            ]
          },
          "metadata": {},
          "execution_count": 69
        },
        {
          "output_type": "display_data",
          "data": {
            "text/plain": [
              "<Figure size 432x288 with 1 Axes>"
            ],
            "image/png": "[encoded data removed]"
          },
          "metadata": {
            "needs_background": "light"
          }
        }
      ]
    },
    {
      "cell_type": "code",
      "source": [
        "df_sinasc_19_rj.PESO.describe()"
      ],
      "metadata": {
        "colab": {
          "base_uri": "https://localhost:8080/"
        },
        "outputId": "b6432564-6cee-473c-9526-a9195108b934",
        "id": "Q9i-94EmSqFD"
      },
      "execution_count": null,
      "outputs": [
        {
          "output_type": "execute_result",
          "data": {
            "text/plain": [
              "count    207984.000000\n",
              "mean       3169.207516\n",
              "std         574.538164\n",
              "min         100.000000\n",
              "25%        2885.000000\n",
              "50%        3205.000000\n",
              "75%        3520.000000\n",
              "max        7000.000000\n",
              "Name: PESO, dtype: float64"
            ]
          },
          "metadata": {},
          "execution_count": 70
        }
      ]
    },
    {
      "cell_type": "code",
      "source": [
        "df_sinasc_19_rj.PESO.hist(bins=50, figsize=(15,8))\n",
        "plt.show()"
      ],
      "metadata": {
        "colab": {
          "base_uri": "https://localhost:8080/",
          "height": 483
        },
        "id": "50eoyox1VkbJ",
        "outputId": "9634cd6e-355d-4e67-e2f0-cd51d53b5be2"
      },
      "execution_count": null,
      "outputs": [
        {
          "output_type": "display_data",
          "data": {
            "text/plain": [
              "<Figure size 1080x576 with 1 Axes>"
            ],
            "image/png": "[encoded data removed]"
          },
          "metadata": {
            "needs_background": "light"
          }
        }
      ]
    },
    {
      "cell_type": "code",
      "source": [
        "#Número de semanas de gestação\n",
        "df_sinasc_19_rj.SEMAGESTAC.describe()"
      ],
      "metadata": {
        "colab": {
          "base_uri": "https://localhost:8080/"
        },
        "id": "XlDbyFJK0yzs",
        "outputId": "c0ed9b7d-6b44-4557-930b-e96d0e3cd617"
      },
      "execution_count": null,
      "outputs": [
        {
          "output_type": "execute_result",
          "data": {
            "text/plain": [
              "count    205678.000000\n",
              "mean         38.415747\n",
              "std           2.167573\n",
              "min          19.000000\n",
              "25%          38.000000\n",
              "50%          39.000000\n",
              "75%          40.000000\n",
              "max          45.000000\n",
              "Name: SEMAGESTAC, dtype: float64"
            ]
          },
          "metadata": {},
          "execution_count": 72
        }
      ]
    },
    {
      "cell_type": "code",
      "source": [
        "df_sinasc_19_rj.SEMAGESTAC.hist(bins=50, figsize=(15,8))\n",
        "plt.show()"
      ],
      "metadata": {
        "colab": {
          "base_uri": "https://localhost:8080/",
          "height": 483
        },
        "id": "guG44v_XxtK4",
        "outputId": "f763d54d-f17f-4f4c-abaf-e6cd605734b9"
      },
      "execution_count": null,
      "outputs": [
        {
          "output_type": "display_data",
          "data": {
            "text/plain": [
              "<Figure size 1080x576 with 1 Axes>"
            ],
            "image/png": "[encoded data removed]"
          },
          "metadata": {
            "needs_background": "light"
          }
        }
      ]
    },
    {
      "cell_type": "code",
      "source": [
        "#Tipo de parto\n",
        "sns.countplot(x='PARTO', data=df_sinasc_19_rj, hue=\"PARTO\")"
      ],
      "metadata": {
        "colab": {
          "base_uri": "https://localhost:8080/",
          "height": 296
        },
        "id": "Uy5qjrOEeXQD",
        "outputId": "9cfd4dbb-6b93-47fe-835c-2ee0814e8072"
      },
      "execution_count": null,
      "outputs": [
        {
          "output_type": "execute_result",
          "data": {
            "text/plain": [
              "<matplotlib.axes._subplots.AxesSubplot at 0x7f432c626b10>"
            ]
          },
          "metadata": {},
          "execution_count": 74
        },
        {
          "output_type": "display_data",
          "data": {
            "text/plain": [
              "<Figure size 432x288 with 1 Axes>"
            ],
            "image/png": "[encoded data removed]"
          },
          "metadata": {
            "needs_background": "light"
          }
        }
      ]
    },
    {
      "cell_type": "code",
      "source": [
        "#Identificação de Anomalia congênita\n",
        "sns.countplot(x='IDANOMAL', data=df_sinasc_19_rj, hue=\"IDANOMAL\")"
      ],
      "metadata": {
        "colab": {
          "base_uri": "https://localhost:8080/",
          "height": 296
        },
        "id": "WZ1g146ye3aS",
        "outputId": "8ebaab9f-f32c-405d-dfbe-4a883793109d"
      },
      "execution_count": null,
      "outputs": [
        {
          "output_type": "execute_result",
          "data": {
            "text/plain": [
              "<matplotlib.axes._subplots.AxesSubplot at 0x7f432c610e90>"
            ]
          },
          "metadata": {},
          "execution_count": 75
        },
        {
          "output_type": "display_data",
          "data": {
            "text/plain": [
              "<Figure size 432x288 with 1 Axes>"
            ],
            "image/png": "[encoded data removed]"
          },
          "metadata": {
            "needs_background": "light"
          }
        }
      ]
    },
    {
      "cell_type": "code",
      "source": [
        "#Tipo de apresentação do NV\n",
        "sns.countplot(x='TPAPRESENT', data=df_sinasc_19_rj, hue=\"TPAPRESENT\")"
      ],
      "metadata": {
        "colab": {
          "base_uri": "https://localhost:8080/",
          "height": 297
        },
        "id": "9YxgeUBMfRdz",
        "outputId": "3608464d-178e-4ae9-afea-e6026fb1513f"
      },
      "execution_count": null,
      "outputs": [
        {
          "output_type": "execute_result",
          "data": {
            "text/plain": [
              "<matplotlib.axes._subplots.AxesSubplot at 0x7f432c531f90>"
            ]
          },
          "metadata": {},
          "execution_count": 76
        },
        {
          "output_type": "display_data",
          "data": {
            "text/plain": [
              "<Figure size 432x288 with 1 Axes>"
            ],
            "image/png": "[encoded data removed]"
          },
          "metadata": {
            "needs_background": "light"
          }
        }
      ]
    },
    {
      "cell_type": "code",
      "source": [
        "#Trabalho de parto induzido?\n",
        "sns.countplot(x='STTRABPART', data=df_sinasc_19_rj, hue=\"STTRABPART\")"
      ],
      "metadata": {
        "colab": {
          "base_uri": "https://localhost:8080/",
          "height": 296
        },
        "id": "6zKzDD5FfRi2",
        "outputId": "69dc33fc-b9f8-47e0-b2f2-552037f7abad"
      },
      "execution_count": null,
      "outputs": [
        {
          "output_type": "execute_result",
          "data": {
            "text/plain": [
              "<matplotlib.axes._subplots.AxesSubplot at 0x7f432c458750>"
            ]
          },
          "metadata": {},
          "execution_count": 77
        },
        {
          "output_type": "display_data",
          "data": {
            "text/plain": [
              "<Figure size 432x288 with 1 Axes>"
            ],
            "image/png": "[encoded data removed]"
          },
          "metadata": {
            "needs_background": "light"
          }
        }
      ]
    },
    {
      "cell_type": "code",
      "source": [
        "#Cesárea ocorreu antes do trabalho de parto iniciar?\n",
        "sns.countplot(x='STCESPARTO', data=df_sinasc_19_rj, hue=\"STCESPARTO\")"
      ],
      "metadata": {
        "colab": {
          "base_uri": "https://localhost:8080/",
          "height": 296
        },
        "id": "i0VSTYT_fRmb",
        "outputId": "a558f3aa-2639-4970-b6c5-7ba9f2e1c5c8"
      },
      "execution_count": null,
      "outputs": [
        {
          "output_type": "execute_result",
          "data": {
            "text/plain": [
              "<matplotlib.axes._subplots.AxesSubplot at 0x7f432c3f4750>"
            ]
          },
          "metadata": {},
          "execution_count": 78
        },
        {
          "output_type": "display_data",
          "data": {
            "text/plain": [
              "<Figure size 432x288 with 1 Axes>"
            ],
            "image/png": "[encoded data removed]"
          },
          "metadata": {
            "needs_background": "light"
          }
        }
      ]
    },
    {
      "cell_type": "code",
      "source": [
        "#Profissional de saúde que assistiu o parto\n",
        "sns.countplot(x='TPNASCASSI', data=df_sinasc_19_rj, hue=\"TPNASCASSI\")"
      ],
      "metadata": {
        "colab": {
          "base_uri": "https://localhost:8080/",
          "height": 299
        },
        "id": "agTybnLIfRpb",
        "outputId": "25156081-8c1f-4a3f-dd08-706ca52fc1a3"
      },
      "execution_count": null,
      "outputs": [
        {
          "output_type": "execute_result",
          "data": {
            "text/plain": [
              "<matplotlib.axes._subplots.AxesSubplot at 0x7f432c376c50>"
            ]
          },
          "metadata": {},
          "execution_count": 79
        },
        {
          "output_type": "display_data",
          "data": {
            "text/plain": [
              "<Figure size 432x288 with 1 Axes>"
            ],
            "image/png": "[encoded data removed]"
          },
          "metadata": {
            "needs_background": "light"
          }
        }
      ]
    },
    {
      "cell_type": "markdown",
      "source": [],
      "metadata": {
        "id": "Vj8n1Phg33BH"
      }
    },
    {
      "cell_type": "code",
      "source": [
        "#Classificação do recém-nascido segundo os marcadores de gravidade neonatal \n",
        "\n",
        "CLASSA = df_sinasc_19_rj[ (df_sinasc_19_rj[\"APGAR5\"] < 7) & (df_sinasc_19_rj[\"PESO\"] < 1500) ]\n",
        "CLASSB = df_sinasc_19_rj[ (df_sinasc_19_rj[\"APGAR5\"] >= 7) & (df_sinasc_19_rj[\"PESO\"] < 1500) ]\n",
        "CLASSC = df_sinasc_19_rj[ (df_sinasc_19_rj[\"APGAR5\"] < 7) & (df_sinasc_19_rj[\"PESO\"] >= 1500) & (df_sinasc_19_rj[\"PESO\"] <1700) ]\n",
        "CLASSD = df_sinasc_19_rj[ (df_sinasc_19_rj[\"APGAR5\"] >= 7) & (df_sinasc_19_rj[\"PESO\"] >= 1500) & (df_sinasc_19_rj[\"PESO\"] <1700) ]\n",
        "CLASSE = df_sinasc_19_rj[ (df_sinasc_19_rj[\"APGAR5\"] < 7) & (df_sinasc_19_rj[\"PESO\"] >= 1750) & (df_sinasc_19_rj[\"PESO\"] <2499) ]\n",
        "CLASSF = df_sinasc_19_rj[ (df_sinasc_19_rj[\"APGAR5\"] >= 7) & (df_sinasc_19_rj[\"PESO\"] >= 1750) & (df_sinasc_19_rj[\"PESO\"] <2499) ]\n",
        "CLASSG = df_sinasc_19_rj[ (df_sinasc_19_rj[\"APGAR5\"] < 7) & (df_sinasc_19_rj[\"PESO\"] >= 2500) ]\n",
        "CLASSH = df_sinasc_19_rj[ (df_sinasc_19_rj[\"APGAR5\"] >= 7) & (df_sinasc_19_rj[\"PESO\"] >= 2500)]\n",
        "\n",
        "print(\"\"\"\n",
        "Classificação de gravidade A - Muito baixo peso e asfixia  {}\n",
        "Classificação de gravidade B - Muito baixo peso {}\n",
        "Classificação de gravidade C - Baixo peso e asfixia {}\n",
        "Classificação de gravidade D - Baixo peso {}\n",
        "Classificação de gravidade E - Baixo peso moderado e asfixia {}\n",
        "Classificação de gravidade F - Baixo peso moderado {}\n",
        "Classificação de gravidade G - Asfixia {}\n",
        "Classificação de gravidade H - Sem marcador de gravidade {}\"\"\".format(\n",
        "CLASSA.shape,\n",
        "CLASSB.shape,\n",
        "CLASSC.shape,\n",
        "CLASSD.shape,\n",
        "CLASSE.shape,\n",
        "CLASSF.shape,\n",
        "CLASSG.shape,\n",
        "CLASSH.shape)\n",
        ")"
      ],
      "metadata": {
        "colab": {
          "base_uri": "https://localhost:8080/"
        },
        "id": "BVVzPW0Y4v3e",
        "outputId": "fc1cb36c-e945-4da7-fec6-16faa9022dfa"
      },
      "execution_count": null,
      "outputs": [
        {
          "output_type": "stream",
          "name": "stdout",
          "text": [
            "\n",
            "Classificação de gravidade A - Muito baixo peso e asfixia  (683, 47)\n",
            "Classificação de gravidade B - Muito baixo peso (2615, 47)\n",
            "Classificação de gravidade C - Baixo peso e asfixia (62, 47)\n",
            "Classificação de gravidade D - Baixo peso (983, 47)\n",
            "Classificação de gravidade E - Baixo peso moderado e asfixia (286, 47)\n",
            "Classificação de gravidade F - Baixo peso moderado (14104, 47)\n",
            "Classificação de gravidade G - Asfixia (1149, 47)\n",
            "Classificação de gravidade H - Sem marcador de gravidade (186129, 47)\n"
          ]
        }
      ]
    }
  ]
}